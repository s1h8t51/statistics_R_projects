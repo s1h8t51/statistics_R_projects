{
 "cells": [
  {
   "cell_type": "markdown",
   "id": "6b032b67",
   "metadata": {},
   "source": [
    "Chapter 2 - Gaussian Bayesian Networks - graphical representation I\n",
    "\n",
    "The crop data <br>\n",
    "G = genetic potential <br>\n",
    "E = environmental potential <br>\n",
    "V = vegatative mass <br>\n",
    "N = number of seeds (@ flowering time) <br>\n",
    "W = average weight (later in plants life) <br>\n",
    "C = crop <br><br>\n",
    "\n",
    "Relationships: <br>\n",
    "{G, E} --> V <br>\n",
    "V --> N <br>\n",
    "V --> W <br>\n",
    "{N,W} --> C <br>\n"
   ]
  },
  {
   "cell_type": "code",
   "execution_count": null,
   "id": "fcf44c07",
   "metadata": {},
   "outputs": [],
   "source": [
    "library(bnlearn)\n",
    "library(graph)"
   ]
  },
  {
   "cell_type": "code",
   "execution_count": null,
   "id": "3e487bbb",
   "metadata": {},
   "outputs": [],
   "source": [
    "# Specify the BN (from formula --> graph)\n",
    "dag.bnlearn <- model2network(\"[G][E][V|G:E][N|V][W|V][C|N:W]\")\n",
    "dag.bnlearn\n",
    "\n",
    "plot(dag.bnlearn)"
   ]
  },
  {
   "cell_type": "code",
   "execution_count": null,
   "id": "52a8d219",
   "metadata": {},
   "outputs": [],
   "source": [
    "# Pull out all of the inpendencies in the graph\n",
    "node_set <- nodes(dag.bnlearn)\n",
    "node_set\n",
    "\n",
    "for (n1 in node_set){\n",
    "    for (n2 in node_set){\n",
    "        test <- dsep(dag.bnlearn, n1, n2)\n",
    "        if (test == TRUE){\n",
    "            cat(n1, \"and\", n2, \"are independent. \\n\")\n",
    "        }     \n",
    "    }\n",
    "}\n",
    "\n",
    "\n",
    "# an alternative way\n",
    "store <- c()\n",
    "for (i in 1:length(node_set)){\n",
    "    n1 = node_set[i]\n",
    "    for (j in 1:length(node_set)){\n",
    "        n2 = node_set[j]\n",
    "        test <- dsep(dag.bnlearn, n1, n2)\n",
    "        if (test == TRUE){\n",
    "            cat(n1, \"and\", n2, \"are independent. \\n\")\n",
    "            temp <- c(n1, n2)\n",
    "            store <- rbind(store, temp)\n",
    "        }  \n",
    "    }\n",
    "}\n",
    "store"
   ]
  },
  {
   "cell_type": "code",
   "execution_count": null,
   "id": "e673f461",
   "metadata": {},
   "outputs": [],
   "source": []
  }
 ],
 "metadata": {
  "kernelspec": {
   "display_name": "R",
   "language": "R",
   "name": "ir"
  },
  "language_info": {
   "codemirror_mode": "r",
   "file_extension": ".r",
   "mimetype": "text/x-r-source",
   "name": "R",
   "pygments_lexer": "r",
   "version": "4.2.0"
  }
 },
 "nbformat": 4,
 "nbformat_minor": 5
}
