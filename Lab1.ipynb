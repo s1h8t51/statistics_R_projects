{
  "cells": [
    {
      "cell_type": "markdown",
      "id": "ce8645d9",
      "metadata": {
        "id": "ce8645d9"
      },
      "source": [
        "Chapter 1 - Multinomial BNs - Expert-based Networks\n",
        "\n",
        "Train Survey\n",
        "\n",
        "Age - young, adult, old\n",
        "Sex - male, female\n",
        "Education - high (high-school), university degree\n",
        "Occupation - emp (employee), self-employed (self)\n",
        "Residence - city size: small, big\n",
        "Transportation - car, train, other"
      ]
    },
    {
      "cell_type": "code",
      "execution_count": 3,
      "id": "6d9ffc34",
      "metadata": {
        "id": "6d9ffc34"
      },
      "outputs": [],
      "source": [
        "#install.packages(\"bnlearn\")   # Only needs to be run once\n",
        "library(bnlearn)              # Run this every time you start R\n"
      ]
    },
    {
      "cell_type": "code",
      "execution_count": 13,
      "id": "5f3d7286",
      "metadata": {
        "colab": {
          "base_uri": "https://localhost:8080/",
          "height": 675
        },
        "id": "5f3d7286",
        "outputId": "9207147c-2b92-4545-b57a-a85899aa33dd"
      },
      "outputs": [
        {
          "output_type": "display_data",
          "data": {
            "text/plain": [
              "\n",
              "  Random/Generated Bayesian network\n",
              "\n",
              "  model:\n",
              "   [A][S][E][O][R][T] \n",
              "  nodes:                                 6 \n",
              "  arcs:                                  0 \n",
              "    undirected arcs:                     0 \n",
              "    directed arcs:                       0 \n",
              "  average markov blanket size:           0.00 \n",
              "  average neighbourhood size:            0.00 \n",
              "  average branching factor:              0.00 \n",
              "\n",
              "  generation algorithm:                  Empty \n"
            ]
          },
          "metadata": {}
        },
        {
          "output_type": "display_data",
          "data": {
            "text/plain": [
              "plot without title"
            ],
            "image/png": "[encoded data removed]"
          },
          "metadata": {
            "image/png": {
              "width": 420,
              "height": 420
            }
          }
        }
      ],
      "source": [
        "# create an empty graph\n",
        "dag <- empty.graph(nodes = c(\"A\", \"S\", \"E\", \"O\", \"R\", \"T\"))\n",
        "dag #Summary of dag\n",
        "plot(dag) # as graph is empty it will show the individual nodes"
      ]
    },
    {
      "cell_type": "code",
      "execution_count": 17,
      "id": "f89bf179",
      "metadata": {
        "colab": {
          "base_uri": "https://localhost:8080/",
          "height": 541
        },
        "id": "f89bf179",
        "outputId": "8c9ab854-bdf8-439f-f715-2eb7aa76de25"
      },
      "outputs": [
        {
          "output_type": "display_data",
          "data": {
            "text/plain": [
              "\n",
              "  Random/Generated Bayesian network\n",
              "\n",
              "  model:\n",
              "   [A][S][E|A:S][O|E][R|E][T|O:R] \n",
              "  nodes:                                 6 \n",
              "  arcs:                                  6 \n",
              "    undirected arcs:                     0 \n",
              "    directed arcs:                       6 \n",
              "  average markov blanket size:           2.67 \n",
              "  average neighbourhood size:            2.00 \n",
              "  average branching factor:              1.00 \n",
              "\n",
              "  generation algorithm:                  Empty \n"
            ]
          },
          "metadata": {}
        },
        {
          "output_type": "display_data",
          "data": {
            "text/html": [
              "'[A][S][E|A:S][O|E][R|E][T|O:R]'"
            ],
            "text/markdown": "'[A][S][E|A:S][O|E][R|E][T|O:R]'",
            "text/latex": "'{[}A{]}{[}S{]}{[}E\\textbar{}A:S{]}{[}O\\textbar{}E{]}{[}R\\textbar{}E{]}{[}T\\textbar{}O:R{]}'",
            "text/plain": [
              "[1] \"[A][S][E|A:S][O|E][R|E][T|O:R]\""
            ]
          },
          "metadata": {}
        },
        {
          "output_type": "display_data",
          "data": {
            "text/html": [
              "<style>\n",
              ".list-inline {list-style: none; margin:0; padding: 0}\n",
              ".list-inline>li {display: inline-block}\n",
              ".list-inline>li:not(:last-child)::after {content: \"\\00b7\"; padding: 0 .5ex}\n",
              "</style>\n",
              "<ol class=list-inline><li>'A'</li><li>'S'</li><li>'E'</li><li>'O'</li><li>'R'</li><li>'T'</li></ol>\n"
            ],
            "text/markdown": "1. 'A'\n2. 'S'\n3. 'E'\n4. 'O'\n5. 'R'\n6. 'T'\n\n\n",
            "text/latex": "\\begin{enumerate*}\n\\item 'A'\n\\item 'S'\n\\item 'E'\n\\item 'O'\n\\item 'R'\n\\item 'T'\n\\end{enumerate*}\n",
            "text/plain": [
              "[1] \"A\" \"S\" \"E\" \"O\" \"R\" \"T\""
            ]
          },
          "metadata": {}
        },
        {
          "output_type": "display_data",
          "data": {
            "text/html": [
              "<table class=\"dataframe\">\n",
              "<caption>A matrix: 6 × 2 of type chr</caption>\n",
              "<thead>\n",
              "\t<tr><th scope=col>from</th><th scope=col>to</th></tr>\n",
              "</thead>\n",
              "<tbody>\n",
              "\t<tr><td>A</td><td>E</td></tr>\n",
              "\t<tr><td>S</td><td>E</td></tr>\n",
              "\t<tr><td>E</td><td>O</td></tr>\n",
              "\t<tr><td>E</td><td>R</td></tr>\n",
              "\t<tr><td>O</td><td>T</td></tr>\n",
              "\t<tr><td>R</td><td>T</td></tr>\n",
              "</tbody>\n",
              "</table>\n"
            ],
            "text/markdown": "\nA matrix: 6 × 2 of type chr\n\n| from | to |\n|---|---|\n| A | E |\n| S | E |\n| E | O |\n| E | R |\n| O | T |\n| R | T |\n\n",
            "text/latex": "A matrix: 6 × 2 of type chr\n\\begin{tabular}{ll}\n from & to\\\\\n\\hline\n\t A & E\\\\\n\t S & E\\\\\n\t E & O\\\\\n\t E & R\\\\\n\t O & T\\\\\n\t R & T\\\\\n\\end{tabular}\n",
            "text/plain": [
              "     from to\n",
              "[1,] A    E \n",
              "[2,] S    E \n",
              "[3,] E    O \n",
              "[4,] E    R \n",
              "[5,] O    T \n",
              "[6,] R    T "
            ]
          },
          "metadata": {}
        }
      ],
      "source": [
        "#defining the structural relationships\n",
        "\n",
        "dag <- set.arc(dag, from = \"A\", to = \"E\") # age influences education\n",
        "#adding a arc from A to E (adding edges between nodes)\n",
        "dag <- set.arc(dag, from = \"S\", to = \"E\") # sex influences education\n",
        "dag <- set.arc(dag, from = \"E\", to = \"O\") # ....\n",
        "dag <- set.arc(dag, from = \"E\", to = \"R\") # ....\n",
        "dag <- set.arc(dag, from = \"O\", to = \"T\") # ....\n",
        "dag <- set.arc(dag, from = \"R\", to = \"T\") # ....\n",
        "\n",
        "dag\n",
        "# the markov and neighbhood size differs as there are new ars attchesd to edges\n",
        "modelstring(dag)\n",
        "nodes(dag) #nodes /edges are displayed\n",
        "arcs(dag) # connectors are shown"
      ]
    },
    {
      "cell_type": "code",
      "execution_count": 19,
      "id": "c00d2538",
      "metadata": {
        "colab": {
          "base_uri": "https://localhost:8080/",
          "height": 524
        },
        "id": "c00d2538",
        "outputId": "b48c6e00-3230-442d-a0cb-ce999f98a7fd"
      },
      "outputs": [
        {
          "output_type": "display_data",
          "data": {
            "text/html": [
              "<table class=\"dataframe\">\n",
              "<caption>A matrix: 6 × 2 of type chr</caption>\n",
              "<thead>\n",
              "\t<tr><th scope=col>from</th><th scope=col>to</th></tr>\n",
              "</thead>\n",
              "<tbody>\n",
              "\t<tr><td>A</td><td>E</td></tr>\n",
              "\t<tr><td>S</td><td>E</td></tr>\n",
              "\t<tr><td>E</td><td>O</td></tr>\n",
              "\t<tr><td>E</td><td>R</td></tr>\n",
              "\t<tr><td>O</td><td>T</td></tr>\n",
              "\t<tr><td>R</td><td>T</td></tr>\n",
              "</tbody>\n",
              "</table>\n"
            ],
            "text/markdown": "\nA matrix: 6 × 2 of type chr\n\n| from | to |\n|---|---|\n| A | E |\n| S | E |\n| E | O |\n| E | R |\n| O | T |\n| R | T |\n\n",
            "text/latex": "A matrix: 6 × 2 of type chr\n\\begin{tabular}{ll}\n from & to\\\\\n\\hline\n\t A & E\\\\\n\t S & E\\\\\n\t E & O\\\\\n\t E & R\\\\\n\t O & T\\\\\n\t R & T\\\\\n\\end{tabular}\n",
            "text/plain": [
              "     from to\n",
              "[1,] A    E \n",
              "[2,] S    E \n",
              "[3,] E    O \n",
              "[4,] E    R \n",
              "[5,] O    T \n",
              "[6,] R    T "
            ]
          },
          "metadata": {}
        },
        {
          "output_type": "display_data",
          "data": {
            "text/plain": [
              "\n",
              "  Random/Generated Bayesian network\n",
              "\n",
              "  model:\n",
              "   [A][S][E|A:S][O|E][R|E][T|O:R] \n",
              "  nodes:                                 6 \n",
              "  arcs:                                  6 \n",
              "    undirected arcs:                     0 \n",
              "    directed arcs:                       6 \n",
              "  average markov blanket size:           2.67 \n",
              "  average neighbourhood size:            2.00 \n",
              "  average branching factor:              1.00 \n",
              "\n",
              "  generation algorithm:                  Empty \n"
            ]
          },
          "metadata": {}
        },
        {
          "output_type": "display_data",
          "data": {
            "text/html": [
              "TRUE"
            ],
            "text/markdown": "TRUE",
            "text/latex": "TRUE",
            "text/plain": [
              "[1] TRUE"
            ]
          },
          "metadata": {}
        }
      ],
      "source": [
        "#same as previous steps defining da and arc but in programatic way\n",
        "\n",
        "dag2 <- empty.graph(nodes = c(\"A\", \"S\", \"E\", \"O\", \"R\", \"T\"))\n",
        "arc.set <- matrix(c(\"A\", \"E\",\n",
        "                    \"S\", \"E\",\n",
        "                    \"E\", \"O\",\n",
        "                    \"E\", \"R\",\n",
        "                    \"O\", \"T\",\n",
        "                    \"R\", \"T\"), byrow = TRUE,\n",
        "                    ncol = 2, dimnames = list(NULL, c(\"from\", \"to\")))\n",
        "arc.set\n",
        "arcs(dag2) <- arc.set\n",
        "dag2\n",
        "\n",
        "# allow us to compare two dags\n",
        "all.equal(dag, dag2)\n",
        "\n",
        "# if we try to add an edge that results in a cycle - ERROR\n",
        "# set.arc(dag, from = \"T\", to = \"E\")"
      ]
    },
    {
      "cell_type": "code",
      "execution_count": 20,
      "id": "125d5e2a",
      "metadata": {
        "colab": {
          "base_uri": "https://localhost:8080/",
          "height": 437
        },
        "id": "125d5e2a",
        "outputId": "23721f28-98e7-49bd-e02a-e6ecb7aa71f8"
      },
      "outputs": [
        {
          "output_type": "display_data",
          "data": {
            "text/plain": [
              "plot without title"
            ],
            "image/png": "[encoded data removed]"
          },
          "metadata": {
            "image/png": {
              "width": 420,
              "height": 420
            }
          }
        }
      ],
      "source": [
        "# Lets specify the probability distributions\n",
        "plot(dag)\n",
        "\n",
        "# define the states and levels of each parameter\n",
        "#age , sex, education etc\n",
        "\n",
        "A.lv <- c(\"young\", \"adult\", \"old\")\n",
        "S.lv <- c(\"M\", \"F\")\n",
        "E.lv <- c(\"high\", \"uni\")\n",
        "O.lv <- c(\"emp\", \"self\")\n",
        "R.lv <- c(\"small\", \"big\")\n",
        "T.lv <- c(\"car\", \"train\", \"other\")"
      ]
    },
    {
      "cell_type": "code",
      "execution_count": 21,
      "id": "d7085990",
      "metadata": {
        "id": "d7085990"
      },
      "outputs": [],
      "source": [
        "# specify the CPT for every node (\"Expert Defined\") - conditional probability  for each node\n",
        "\n",
        "\n",
        "#distribution for node \"A\" (Age). Since \"A\" has no parents in your network structure, this is a prior probability distribution.\n",
        "#It states that the probability of being \"young\" is 0.30, \"adult\" is 0.50, and \"old\" is 0.20.\n",
        "\n",
        "A.prob <- array(c(0.30, 0.50, 0.20), dim = 3, dimnames = list(A = A.lv))\n",
        "#A.prob\n",
        "\n",
        "S.prob <- array(c(0.60, 0.4), dim = 2, dimnames = list(S=S.lv))\n",
        "#S.prob\n",
        "\n",
        "O.prob <- array(c(0.96, 0.04, 0.92, 0.08), dim = c(2,2),\n",
        "                dimnames = list(O=O.lv, E=E.lv))\n",
        "#O.prob\n",
        "\n",
        "# alternative way (aside)\n",
        "# o.cpt <- cbind(c(0.96, 0.04), c(.92, 0.08))\n",
        "# dimnames(o.cpt) = list(O = O.lv, E = E.lv)\n",
        "# o.cpt\n",
        "\n",
        "R.prob <- array(c(0.25, 0.75, 0.20, 0.80), dim = c(2,2),\n",
        "               dimnames = list(R = R.lv, E = E.lv))\n",
        "#R.prob\n",
        "\n",
        "E.prob <- array(c(0.75, 0.25, 0.72, 0.28, 0.88, 0.12, 0.64,\n",
        "                  0.36, 0.70, 0.30, 0.90, 0.10), dim = c(2,3,2), dimnames = list(E=E.lv, A = A.lv, S = S.lv))\n",
        "\n",
        "T.prob <- array(c(0.48, 0.42, 0.10, 0.56, 0.36, 0.08, 0.58,\n",
        "                 0.24, 0.18, 0.70, 0.21, 0.09), dim = c(3,2,2),\n",
        "                dimnames = list(T=T.lv, O = O.lv, R = R.lv))"
      ]
    },
    {
      "cell_type": "code",
      "execution_count": 22,
      "id": "fb88af8a",
      "metadata": {
        "colab": {
          "base_uri": "https://localhost:8080/",
          "height": 51
        },
        "id": "fb88af8a",
        "outputId": "cd757193-0537-4677-b86a-3d4c4a42fe72"
      },
      "outputs": [
        {
          "output_type": "display_data",
          "data": {
            "text/html": [
              "'[A][S][E|A:S][O|E][R|E][T|O:R]'"
            ],
            "text/markdown": "'[A][S][E|A:S][O|E][R|E][T|O:R]'",
            "text/latex": "'{[}A{]}{[}S{]}{[}E\\textbar{}A:S{]}{[}O\\textbar{}E{]}{[}R\\textbar{}E{]}{[}T\\textbar{}O:R{]}'",
            "text/plain": [
              "[1] \"[A][S][E|A:S][O|E][R|E][T|O:R]\""
            ]
          },
          "metadata": {}
        },
        {
          "output_type": "display_data",
          "data": {
            "text/html": [
              "TRUE"
            ],
            "text/markdown": "TRUE",
            "text/latex": "TRUE",
            "text/plain": [
              "[1] TRUE"
            ]
          },
          "metadata": {}
        }
      ],
      "source": [
        "# one more way to specify the dag\n",
        "modelstring(dag)\n",
        "dag3 <- model2network(\"[A][S][E|A:S][O|E][R|E][T|O:R]\")\n",
        "all.equal(dag,dag3)"
      ]
    },
    {
      "cell_type": "code",
      "execution_count": 23,
      "id": "1b30a113",
      "metadata": {
        "colab": {
          "base_uri": "https://localhost:8080/",
          "height": 1000
        },
        "id": "1b30a113",
        "outputId": "26521b78-a7d2-410e-b58c-ae303494ab74"
      },
      "outputs": [
        {
          "output_type": "stream",
          "name": "stderr",
          "text": [
            "Warning message in nparams(bn):\n",
            "“the effective argument is deprecated and will be removed in 2025.”\n"
          ]
        },
        {
          "output_type": "display_data",
          "data": {
            "text/html": [
              "21"
            ],
            "text/markdown": "21",
            "text/latex": "21",
            "text/plain": [
              "[1] 21"
            ]
          },
          "metadata": {}
        },
        {
          "output_type": "display_data",
          "data": {
            "text/html": [
              "<table class=\"dataframe\">\n",
              "<caption>A matrix: 6 × 2 of type chr</caption>\n",
              "<thead>\n",
              "\t<tr><th scope=col>from</th><th scope=col>to</th></tr>\n",
              "</thead>\n",
              "<tbody>\n",
              "\t<tr><td>A</td><td>E</td></tr>\n",
              "\t<tr><td>S</td><td>E</td></tr>\n",
              "\t<tr><td>E</td><td>O</td></tr>\n",
              "\t<tr><td>E</td><td>R</td></tr>\n",
              "\t<tr><td>O</td><td>T</td></tr>\n",
              "\t<tr><td>R</td><td>T</td></tr>\n",
              "</tbody>\n",
              "</table>\n"
            ],
            "text/markdown": "\nA matrix: 6 × 2 of type chr\n\n| from | to |\n|---|---|\n| A | E |\n| S | E |\n| E | O |\n| E | R |\n| O | T |\n| R | T |\n\n",
            "text/latex": "A matrix: 6 × 2 of type chr\n\\begin{tabular}{ll}\n from & to\\\\\n\\hline\n\t A & E\\\\\n\t S & E\\\\\n\t E & O\\\\\n\t E & R\\\\\n\t O & T\\\\\n\t R & T\\\\\n\\end{tabular}\n",
            "text/plain": [
              "     from to\n",
              "[1,] A    E \n",
              "[2,] S    E \n",
              "[3,] E    O \n",
              "[4,] E    R \n",
              "[5,] O    T \n",
              "[6,] R    T "
            ]
          },
          "metadata": {}
        },
        {
          "output_type": "display_data",
          "data": {
            "text/plain": [
              "\n",
              "  Parameters of node T (multinomial distribution)\n",
              "\n",
              "Conditional probability table:\n",
              " \n",
              ", , R = small\n",
              "\n",
              "       O\n",
              "T        emp self\n",
              "  car   0.48 0.56\n",
              "  train 0.42 0.36\n",
              "  other 0.10 0.08\n",
              "\n",
              ", , R = big\n",
              "\n",
              "       O\n",
              "T        emp self\n",
              "  car   0.58 0.70\n",
              "  train 0.24 0.21\n",
              "  other 0.18 0.09\n"
            ]
          },
          "metadata": {}
        },
        {
          "output_type": "display_data",
          "data": {
            "text/plain": [
              "\n",
              "  Bayesian network parameters\n",
              "\n",
              "  Parameters of node A (multinomial distribution)\n",
              "\n",
              "Conditional probability table:\n",
              " A\n",
              "young adult   old \n",
              "  0.3   0.5   0.2 \n",
              "\n",
              "  Parameters of node S (multinomial distribution)\n",
              "\n",
              "Conditional probability table:\n",
              " S\n",
              "  M   F \n",
              "0.6 0.4 \n",
              "\n",
              "  Parameters of node E (multinomial distribution)\n",
              "\n",
              "Conditional probability table:\n",
              " \n",
              ", , S = M\n",
              "\n",
              "      A\n",
              "E      young adult  old\n",
              "  high  0.75  0.72 0.88\n",
              "  uni   0.25  0.28 0.12\n",
              "\n",
              ", , S = F\n",
              "\n",
              "      A\n",
              "E      young adult  old\n",
              "  high  0.64  0.70 0.90\n",
              "  uni   0.36  0.30 0.10\n",
              "\n",
              "\n",
              "  Parameters of node O (multinomial distribution)\n",
              "\n",
              "Conditional probability table:\n",
              " \n",
              "      E\n",
              "O      high  uni\n",
              "  emp  0.96 0.92\n",
              "  self 0.04 0.08\n",
              "\n",
              "  Parameters of node R (multinomial distribution)\n",
              "\n",
              "Conditional probability table:\n",
              " \n",
              "       E\n",
              "R       high  uni\n",
              "  small 0.25 0.20\n",
              "  big   0.75 0.80\n",
              "\n",
              "  Parameters of node T (multinomial distribution)\n",
              "\n",
              "Conditional probability table:\n",
              " \n",
              ", , R = small\n",
              "\n",
              "       O\n",
              "T        emp self\n",
              "  car   0.48 0.56\n",
              "  train 0.42 0.36\n",
              "  other 0.10 0.08\n",
              "\n",
              ", , R = big\n",
              "\n",
              "       O\n",
              "T        emp self\n",
              "  car   0.58 0.70\n",
              "  train 0.24 0.21\n",
              "  other 0.18 0.09\n",
              "\n"
            ]
          },
          "metadata": {}
        }
      ],
      "source": [
        "# parameterize the network\n",
        "cpt <- list(A = A.prob, S = S.prob, E = E.prob, O = O.prob, R = R.prob,\n",
        "           T = T.prob)\n",
        "bn <- custom.fit(dag, dist = cpt)\n",
        "nparams(bn)\n",
        "arcs(bn)\n",
        "bn$T\n",
        "bn\n"
      ]
    },
    {
      "cell_type": "code",
      "execution_count": null,
      "id": "ef3cb2cf",
      "metadata": {
        "id": "ef3cb2cf"
      },
      "outputs": [],
      "source": []
    }
  ],
  "metadata": {
    "kernelspec": {
      "display_name": "R",
      "language": "R",
      "name": "ir"
    },
    "language_info": {
      "codemirror_mode": "r",
      "file_extension": ".r",
      "mimetype": "text/x-r-source",
      "name": "R",
      "pygments_lexer": "r",
      "version": "4.4.1"
    },
    "colab": {
      "provenance": []
    }
  },
  "nbformat": 4,
  "nbformat_minor": 5
}