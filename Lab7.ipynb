{
 "cells": [
  {
   "cell_type": "markdown",
   "id": "8260c2e1",
   "metadata": {},
   "source": [
    "Chapter 2 - Gaussian Bayesian Networks - specification of parameters for the local model (expert specified)\n",
    "\n",
    "The crop data <br>\n",
    "G = genetic potential <br>\n",
    "E = environmental potential <br>\n",
    "V = vegatative mass <br>\n",
    "N = number of seeds (@ flowering time) <br>\n",
    "W = average weight (later in plants life) <br>\n",
    "C = crop "
   ]
  },
  {
   "cell_type": "markdown",
   "id": "54d3019f",
   "metadata": {},
   "source": [
    "$G\\sim N(50, 10^2)$ <br>\n",
    "$E \\sim N(50, 10^2)$ <br>\n",
    "$V \\mid G = g,E=e \\sim N(-10.35 + 0.5g+0.70e, 5^2)$ <br>\n",
    "$N \\mid V = v \\sim N(45 + 0.1v, 9.95^2)$<br>\n",
    "$W \\mid V = v \\sim N(15 + 0.7v, 7.14^2)$<br>\n",
    "$C \\mid N = n, W = w \\sim N(0.3n + 0.7w, 6.25^2)$<br>"
   ]
  },
  {
   "cell_type": "code",
   "execution_count": null,
   "id": "4876c09b",
   "metadata": {},
   "outputs": [],
   "source": [
    "library(bnlearn)\n",
    "library(graph)\n",
    "\n",
    "# Specify the BN (from formula --> graph)\n",
    "dag.bnlearn <- model2network(\"[G][E][V|G:E][N|V][W|V][C|N:W]\")\n",
    "#dag.bnlearn\n",
    "\n",
    "#plot(dag.bnlearn)"
   ]
  },
  {
   "cell_type": "code",
   "execution_count": null,
   "id": "dc78d8db",
   "metadata": {},
   "outputs": [],
   "source": [
    "# Specify the distributions\n",
    "disE <- list(coef = c(\"(Intercept)\" = 50), sd = 10)\n",
    "disG <- list(coef = c(\"(Intercept)\" = 50), sd = 10)\n",
    "disV <- list(coef = c(\"(Intercept)\" = -10.35, E = .70, G = 0.5), sd = 5)\n",
    "disN <- list(coef = c(\"(Intercept)\" = 45, V = .1), sd = 9.95)\n",
    "disW <- list(coef = c(\"(Intercept)\" = 15, V = 0.7), sd = 7.14)\n",
    "disC <- list(coef = c(\"(Intercept)\" = 0, N = 0.3, W = 0.7), sd = 6.25)"
   ]
  },
  {
   "cell_type": "code",
   "execution_count": null,
   "id": "60829453",
   "metadata": {},
   "outputs": [],
   "source": [
    "# put them together for bn parameterization\n",
    "dis.list <- list(E = disE, G = disG, V = disV, N = disN, W = disW, C = disC)\n",
    "\n",
    "gbn.bnlearn <- custom.fit(dag.bnlearn, dist = dis.list)\n",
    "\n",
    "gbn.bnlearn"
   ]
  },
  {
   "cell_type": "code",
   "execution_count": null,
   "id": "1181ba11",
   "metadata": {},
   "outputs": [],
   "source": [
    "# grab information about a node\n",
    "gbn.bnlearn$G\n",
    "gbn.bnlearn$C\n"
   ]
  },
  {
   "cell_type": "code",
   "execution_count": null,
   "id": "f6da4512",
   "metadata": {},
   "outputs": [],
   "source": []
  }
 ],
 "metadata": {
  "kernelspec": {
   "display_name": "R",
   "language": "R",
   "name": "ir"
  },
  "language_info": {
   "codemirror_mode": "r",
   "file_extension": ".r",
   "mimetype": "text/x-r-source",
   "name": "R",
   "pygments_lexer": "r",
   "version": "4.2.0"
  }
 },
 "nbformat": 4,
 "nbformat_minor": 5
}
