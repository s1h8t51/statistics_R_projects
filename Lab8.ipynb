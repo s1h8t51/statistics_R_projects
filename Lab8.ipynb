{
 "cells": [
  {
   "cell_type": "markdown",
   "id": "5b75c520",
   "metadata": {},
   "source": [
    "Chapter 2 - Gaussian Bayesian Networks - learning parameters from data\n",
    "\n",
    "The crop data <br>\n",
    "G = genetic potential <br>\n",
    "E = environmental potential <br>\n",
    "V = vegatative mass <br>\n",
    "N = number of seeds (@ flowering time) <br>\n",
    "W = average weight (later in plants life) <br>\n",
    "C = crop <br>\n",
    "\n",
    "$G\\sim N(50, 10^2)$ <br>\n",
    "$E \\sim N(50, 10^2)$ <br>\n",
    "$V \\mid G = g,E=e \\sim N(-10.35 + 0.5g+0.70e, 5^2)$ <br>\n",
    "$N \\mid V = v \\sim N(45 + 0.1v, 9.95^2)$<br>\n",
    "$W \\mid V = v \\sim N(15 + 0.7v, 7.14^2)$<br>\n",
    "$C \\mid N = n, W = w \\sim N(0.3n + 0.7w, 6.25^2)$<br>"
   ]
  },
  {
   "cell_type": "code",
   "execution_count": null,
   "id": "3e91b1d0",
   "metadata": {},
   "outputs": [],
   "source": [
    "library(bnlearn)\n",
    "library(graph)\n",
    "library(rbmn)  #install.packages(\"rbmn\")\n",
    "\n",
    "# From Lab 7 -- the paramaterization \n",
    "# Specify the BN (from formula --> graph)\n",
    "dag.bnlearn <- model2network(\"[G][E][V|G:E][N|V][W|V][C|N:W]\")\n",
    "\n",
    "# Specify the distributions\n",
    "disE <- list(coef = c(\"(Intercept)\" = 50), sd = 10)\n",
    "disG <- list(coef = c(\"(Intercept)\" = 50), sd = 10)\n",
    "disV <- list(coef = c(\"(Intercept)\" = -10.35, E = .70, G = 0.5), sd = 5)\n",
    "disN <- list(coef = c(\"(Intercept)\" = 45, V = .1), sd = 9.95)\n",
    "disW <- list(coef = c(\"(Intercept)\" = 15, V = 0.7), sd = 7.14)\n",
    "disC <- list(coef = c(\"(Intercept)\" = 0, N = 0.3, W = 0.7), sd = 6.25)\n",
    "\n",
    "# put them together for bn parameterization\n",
    "dis.list <- list(E = disE, G = disG, V = disV, N = disN, W = disW, C = disC)\n",
    "\n",
    "gbn.bnlearn <- custom.fit(dag.bnlearn, dist = dis.list)"
   ]
  },
  {
   "cell_type": "code",
   "execution_count": null,
   "id": "2f7d2f63",
   "metadata": {},
   "outputs": [],
   "source": [
    "# convert my bn object over to rbmn\n",
    "# (by the book)\n",
    "\n",
    "#class(gbn.bnlearn)\n",
    "gbn.rbmn <- bnfit2nbn(gbn.bnlearn)\n",
    "gema.rbmn <- nbn2gema(gbn.rbmn)\n",
    "mn.rbmn <- gema2mn(gema.rbmn)"
   ]
  },
  {
   "cell_type": "code",
   "execution_count": null,
   "id": "099b66c7",
   "metadata": {},
   "outputs": [],
   "source": [
    "# We have a BN that is paramaterized -- we should be able to \n",
    "# simulate data from the distributions\n",
    "set.seed(123)\n",
    "cropdata0 <- rbn(gbn.bnlearn, n = 10) # very small sample size\n",
    "cropdata1 <- rbn(gbn.bnlearn, n = 100) # moderate size\n",
    "cropdata2 <- rbn(gbn.bnlearn, n = 500) # larger (but not large)"
   ]
  },
  {
   "cell_type": "code",
   "execution_count": null,
   "id": "966c5565",
   "metadata": {},
   "outputs": [],
   "source": [
    "# Estimate paramaters for the BN network\n",
    "est.para <- bn.fit(dag.bnlearn, data = cropdata1)\n",
    "#est.para\n",
    "\n",
    "#est.para$C\n",
    "\n",
    "# compare to the \"true paramaterization\"\n",
    "#gbn.bnlearn$C\n",
    "\n",
    "\n",
    "# An aside -- look at the effect of sample size on the estimation\n",
    "est.para.small <- bn.fit(dag.bnlearn, data = cropdata0)\n",
    "\n",
    "est.para.large <- bn.fit(dag.bnlearn, data = cropdata2)\n",
    "\n",
    "gbn.bnlearn$C\n",
    "est.para.small$C\n",
    "est.para$C\n",
    "est.para.large$C"
   ]
  },
  {
   "cell_type": "code",
   "execution_count": null,
   "id": "819c3630",
   "metadata": {},
   "outputs": [],
   "source": [
    "plot(dag.bnlearn)"
   ]
  },
  {
   "cell_type": "code",
   "execution_count": null,
   "id": "478dc886",
   "metadata": {},
   "outputs": [],
   "source": [
    "# use regression to estimate the parameters\n",
    "#lmC <- lm(C ~ N + W, data = cropdata1[,c(\"N\", \"W\", \"C\")] ) #book\n",
    "lmC <- lm(C ~ N + W, data = cropdata1)\n",
    "lmC\n",
    "\n",
    "est.para$C\n",
    "\n",
    "lmV <- lm(V ~ E + G, data = cropdata1)\n",
    "lmV\n",
    "est.para$V\n"
   ]
  },
  {
   "cell_type": "code",
   "execution_count": null,
   "id": "0f2b9c64",
   "metadata": {},
   "outputs": [],
   "source": [
    "# grab some of the information from the linear model\n",
    "lmC <- lm(C ~ N + W, data = cropdata1)\n",
    "coef(lmC)\n",
    "confint(lmC)\n",
    "\n",
    "# an alternative layer to estimating C\n",
    "lm(C ~ N + W - 1, data = cropdata1)"
   ]
  },
  {
   "cell_type": "code",
   "execution_count": null,
   "id": "90944bbb",
   "metadata": {},
   "outputs": [],
   "source": []
  }
 ],
 "metadata": {
  "kernelspec": {
   "display_name": "R",
   "language": "R",
   "name": "ir"
  },
  "language_info": {
   "codemirror_mode": "r",
   "file_extension": ".r",
   "mimetype": "text/x-r-source",
   "name": "R",
   "pygments_lexer": "r",
   "version": "4.2.0"
  }
 },
 "nbformat": 4,
 "nbformat_minor": 5
}
