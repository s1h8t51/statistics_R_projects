{
 "cells": [
  {
   "cell_type": "markdown",
   "id": "2eade65c",
   "metadata": {},
   "source": [
    "Chapter 1 - Multinomial BNs - D-separation and Active Paths\n",
    "\n",
    "Exploring: serial connections (A-->B-->C), divergent connections (A<--B-->C) and colliders (convergent connections aka v-structure) A-->B<--C\n",
    "\n",
    "Train Survey\n",
    "\n",
    "Age - young, adult, old <br>\n",
    "Sex - male, female <br>\n",
    "Education - high (high-school), university degree <br>\n",
    "Occupation - emp (employee), self-employed (self) <br>\n",
    "Residence - city  size: small, big <br>\n",
    "Transportation - car, train, other"
   ]
  },
  {
   "cell_type": "code",
   "execution_count": null,
   "id": "e3461d31",
   "metadata": {},
   "outputs": [],
   "source": [
    "rm(list = ls())\n",
    "library(bnlearn)\n",
    "\n",
    "# set the directory\n",
    "setwd(\"~/Dropbox/IAD/BN_COURSE/Lab4\")\n",
    "\n",
    "# create an empty graph\n",
    "dag <- empty.graph(nodes = c(\"A\", \"S\", \"E\", \"O\", \"R\", \"T\"))\n",
    "\n",
    "# Add in the edges\n",
    "dag <- set.arc(dag, from = \"A\", to = \"E\") # age influences education\n",
    "dag <- set.arc(dag, from = \"S\", to = \"E\") # sex influences education\n",
    "dag <- set.arc(dag, from = \"E\", to = \"O\") # .... \n",
    "dag <- set.arc(dag, from = \"E\", to = \"R\") # ....\n",
    "dag <- set.arc(dag, from = \"O\", to = \"T\") # ....\n",
    "dag <- set.arc(dag, from = \"R\", to = \"T\") # ....\n",
    "\n",
    "plot(dag)\n",
    "\n",
    "# Read in the data\n",
    "survey <- read.table(\"survey.txt\", header = TRUE, colClasses = \"factor\")\n"
   ]
  },
  {
   "cell_type": "code",
   "execution_count": null,
   "id": "87a46386",
   "metadata": {},
   "outputs": [],
   "source": [
    "# check for d-separation\n",
    "dsep(dag, x = \"S\", y = \"R\")\n",
    "dsep(dag, x = \"O\", y = \"R\")\n"
   ]
  },
  {
   "cell_type": "code",
   "execution_count": null,
   "id": "f9509d2b",
   "metadata": {},
   "outputs": [],
   "source": [
    "# check for paths\n",
    "# ?path.exists\n",
    "path.exists(dag, from = \"S\", to = \"R\")\n",
    "\n",
    "# dsep given information in the graph\n",
    "dsep(dag, x = \"S\", y = \"R\", z = \"E\")"
   ]
  },
  {
   "cell_type": "code",
   "execution_count": null,
   "id": "d96e63ca",
   "metadata": {},
   "outputs": [],
   "source": [
    "# d-sep\n",
    "dsep(dag, x = \"A\", y = \"S\")\n",
    "\n",
    "dsep(dag, x = \"A\", y = \"S\", z = \"E\")"
   ]
  },
  {
   "cell_type": "code",
   "execution_count": null,
   "id": "223a5ddd",
   "metadata": {},
   "outputs": [],
   "source": []
  }
 ],
 "metadata": {
  "kernelspec": {
   "display_name": "R",
   "language": "R",
   "name": "ir"
  },
  "language_info": {
   "codemirror_mode": "r",
   "file_extension": ".r",
   "mimetype": "text/x-r-source",
   "name": "R",
   "pygments_lexer": "r",
   "version": "4.2.0"
  }
 },
 "nbformat": 4,
 "nbformat_minor": 5
}
